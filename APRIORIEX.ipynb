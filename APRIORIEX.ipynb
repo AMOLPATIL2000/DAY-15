{
  "nbformat": 4,
  "nbformat_minor": 0,
  "metadata": {
    "colab": {
      "name": "APRIORIEX.ipynb",
      "provenance": []
    },
    "kernelspec": {
      "name": "python3",
      "display_name": "Python 3"
    },
    "language_info": {
      "name": "python"
    }
  },
  "cells": [
    {
      "cell_type": "markdown",
      "source": [
        "INSTALL apyori"
      ],
      "metadata": {
        "id": "8522tQnOsLc3"
      }
    },
    {
      "cell_type": "code",
      "execution_count": null,
      "metadata": {
        "id": "-cw5C-QjsIRx"
      },
      "outputs": [],
      "source": [
        ""
      ]
    },
    {
      "cell_type": "markdown",
      "source": [
        "READ STORE_DATA"
      ],
      "metadata": {
        "id": "pcs2Se0GsPcN"
      }
    },
    {
      "cell_type": "code",
      "source": [
        ""
      ],
      "metadata": {
        "id": "0B1xMh18sR1T"
      },
      "execution_count": null,
      "outputs": []
    },
    {
      "cell_type": "markdown",
      "source": [
        "CREATE ASSOCIALTION RULES USING APRIORI WITH  min_support=0.0045, min_confidence=0.2, min_lift=3, min_length=2\n"
      ],
      "metadata": {
        "id": "3i-nEHjEsSdt"
      }
    },
    {
      "cell_type": "code",
      "source": [
        ""
      ],
      "metadata": {
        "id": "hKW0Tj3FsajM"
      },
      "execution_count": null,
      "outputs": []
    },
    {
      "cell_type": "markdown",
      "source": [
        "LIST ASSOCIATION RULES"
      ],
      "metadata": {
        "id": "1FKVy06FscIN"
      }
    },
    {
      "cell_type": "code",
      "source": [
        ""
      ],
      "metadata": {
        "id": "k-FUcS9Zsdas"
      },
      "execution_count": null,
      "outputs": []
    }
  ]
}