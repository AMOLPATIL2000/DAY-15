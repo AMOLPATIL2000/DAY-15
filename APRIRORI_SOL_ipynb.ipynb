{
  "nbformat": 4,
  "nbformat_minor": 0,
  "metadata": {
    "colab": {
      "name": "APRIRORI_SOL-ipynb",
      "provenance": []
    },
    "kernelspec": {
      "name": "python3",
      "display_name": "Python 3"
    },
    "language_info": {
      "name": "python"
    }
  },
  "cells": [
    {
      "cell_type": "code",
      "source": [
        "pip install apyori"
      ],
      "metadata": {
        "id": "kCjIk_4RPB-f"
      },
      "execution_count": null,
      "outputs": []
    },
    {
      "cell_type": "code",
      "execution_count": null,
      "metadata": {
        "id": "fbjMxvJY90-N"
      },
      "outputs": [],
      "source": [
        "import numpy as np\n",
        "import pandas as pd\n",
        "import matplotlib.pyplot as plt\n",
        "from apyori import apriori\n",
        "store_data = pd.read_csv(\"store_data.csv\", header=None)\n",
        "records = []\n",
        "for i in range(1, 7501):\n",
        "    records.append([str(store_data.values[i, j]) for j in range(0, 20)])\n",
        "\n",
        "association_rules = apriori(records, min_support=0.0045, min_confidence=0.2, min_lift=3, min_length=2)\n",
        "association_results = list(association_rules)\n",
        "\n",
        "for item in association_results:\n",
        "    # first index of the inner list\n",
        "    # Contains base item and add item\n",
        "    pair = item[0]\n",
        "    items = [x for x in pair]\n",
        "    print(\"Rule: \" + items[0] + \" -> \" + items[1])\n",
        "\n",
        "    # second index of the inner list\n",
        "    print(\"Support: \" + str(item[1]))\n",
        "\n",
        "    # third index of the list located at 0th\n",
        "    # of the third index of the inner list\n",
        "\n",
        "    print(\"Confidence: \" + str(item[2][0][2]))\n",
        "    print(\"Lift: \" + str(item[2][0][3]))\n",
        "    print(\"=====================================\")"
      ]
    },
    {
      "cell_type": "code",
      "source": [
        ""
      ],
      "metadata": {
        "id": "6bOOmnfdPBQn"
      },
      "execution_count": null,
      "outputs": []
    }
  ]
}