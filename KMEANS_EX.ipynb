{
  "nbformat": 4,
  "nbformat_minor": 0,
  "metadata": {
    "colab": {
      "name": "KMEANS_EX.ipynb",
      "provenance": []
    },
    "kernelspec": {
      "name": "python3",
      "display_name": "Python 3"
    },
    "language_info": {
      "name": "python"
    }
  },
  "cells": [
    {
      "cell_type": "markdown",
      "source": [
        "Import Lib and Mall_Customers Data"
      ],
      "metadata": {
        "id": "_vjenI1siUp5"
      }
    },
    {
      "cell_type": "code",
      "execution_count": null,
      "metadata": {
        "id": "EjPEnSJuiRIe"
      },
      "outputs": [],
      "source": [
        ""
      ]
    },
    {
      "cell_type": "markdown",
      "source": [
        "READ DATA AGE & ANNUAL INCOME"
      ],
      "metadata": {
        "id": "fDqN2XeFinQ_"
      }
    },
    {
      "cell_type": "code",
      "source": [
        ""
      ],
      "metadata": {
        "id": "KpLMnWK-isv-"
      },
      "execution_count": null,
      "outputs": []
    },
    {
      "cell_type": "markdown",
      "source": [
        "Feature Scaling Using Standrdization"
      ],
      "metadata": {
        "id": "bBQjHI9bicto"
      }
    },
    {
      "cell_type": "code",
      "source": [
        ""
      ],
      "metadata": {
        "id": "56zMMvSuih4W"
      },
      "execution_count": null,
      "outputs": []
    },
    {
      "cell_type": "markdown",
      "source": [
        " Clustering with KMeans"
      ],
      "metadata": {
        "id": "4hBC63R7iia_"
      }
    },
    {
      "cell_type": "code",
      "source": [
        ""
      ],
      "metadata": {
        "id": "pclocYZnimjG"
      },
      "execution_count": null,
      "outputs": []
    },
    {
      "cell_type": "markdown",
      "source": [
        "PLOT CLUSTERS"
      ],
      "metadata": {
        "id": "vGIUkfKsitRf"
      }
    },
    {
      "cell_type": "code",
      "source": [
        ""
      ],
      "metadata": {
        "id": "bjaP_UD2iuxX"
      },
      "execution_count": null,
      "outputs": []
    },
    {
      "cell_type": "markdown",
      "source": [
        "DRAW ELBOW DIAGRAM"
      ],
      "metadata": {
        "id": "0XtNbbPvivbo"
      }
    },
    {
      "cell_type": "code",
      "source": [
        ""
      ],
      "metadata": {
        "id": "pRRtFntZi07G"
      },
      "execution_count": null,
      "outputs": []
    },
    {
      "cell_type": "markdown",
      "source": [
        "Clustering with three feature"
      ],
      "metadata": {
        "id": "1vpLe6lli1jH"
      }
    },
    {
      "cell_type": "code",
      "source": [
        ""
      ],
      "metadata": {
        "id": "zwAEdVYPi2QG"
      },
      "execution_count": null,
      "outputs": []
    },
    {
      "cell_type": "markdown",
      "source": [
        "CHANGE FOLLOWING CODE FOR 3D GRAPH"
      ],
      "metadata": {
        "id": "GU53XQ9di20P"
      }
    },
    {
      "cell_type": "code",
      "source": [
        "fig = plt.figure(figsize=(20,10))\n",
        "ax = fig.add_subplot(111, projection=’3d’)\n",
        "ax.scatter(new_dfa.Age[new_dfa.label_kmeans == 0], new_dfa[“Annual Income (k$)”][new_dfa.label_kmeans == 0], new_dfa[“Spending Score (1–100)”][new_dfa.label_kmeans == 0], c=’blue’, s=100, edgecolor=’green’,linestyle=’ — ‘)\n",
        "ax.scatter(new_dfa.Age[new_dfa.label_kmeans == 1], new_dfa[“Annual Income (k$)”][new_dfa.label_kmeans == 1], new_dfa[“Spending Score (1–100)”][new_dfa.label_kmeans == 1], c=’red’, s=100, edgecolor=’green’,linestyle=’ — ‘)\n",
        "ax.scatter(new_dfa.Age[new_dfa.label_kmeans == 2], new_dfa[“Annual Income (k$)”][new_dfa.label_kmeans == 2], new_dfa[“Spending Score (1–100)”][new_dfa.label_kmeans == 2], c=’green’, s=100, edgecolor=’green’,linestyle=’ — ‘)\n",
        "ax.scatter(new_dfa.Age[new_dfa.label_kmeans == 3], new_dfa[“Annual Income (k$)”][new_dfa.label_kmeans == 3], new_dfa[“Spending Score (1–100)”][new_dfa.label_kmeans == 3], c=’orange’, s=100, edgecolor=’green’,linestyle=’ — ‘)\n",
        "ax.scatter(new_dfa.Age[new_dfa.label_kmeans == 4], new_dfa[“Annual Income (k$)”][new_dfa.label_kmeans == 4], new_dfa[“Spending Score (1–100)”][new_dfa.label_kmeans == 4], c=’purple’, s=100, edgecolor=’green’,linestyle=’ — ‘)\n",
        "centers = kmeans.cluster_centers_\n",
        "ax.scatter(centers[:, 0], centers[:, 1], centers[:, 2], c=’black’, s=500);\n",
        "plt.xlabel(“Age”)\n",
        "plt.ylabel(“Annual Income (k$)”)\n",
        "ax.set_zlabel(‘Spending Score (1–100)’)\n",
        "plt.show()"
      ],
      "metadata": {
        "id": "_z0Mv59Di9Rm"
      },
      "execution_count": null,
      "outputs": []
    }
  ]
}